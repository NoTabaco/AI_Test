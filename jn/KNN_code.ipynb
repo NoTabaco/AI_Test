{
 "cells": [
  {
   "cell_type": "code",
   "execution_count": 56,
   "metadata": {},
   "outputs": [],
   "source": [
    "#-*- coding:utf-8 -*-"
   ]
  },
  {
   "cell_type": "code",
   "execution_count": 57,
   "metadata": {
    "scrolled": true
   },
   "outputs": [],
   "source": [
    "import numpy as np\n",
    "import pandas as pd\n",
    "import matplotlib.pyplot as plt\n",
    "%matplotlib inline"
   ]
  },
  {
   "cell_type": "code",
   "execution_count": 58,
   "metadata": {},
   "outputs": [
    {
     "data": {
      "image/png": "[encoded data removed]",
      "text/plain": [
       "<Figure size 432x288 with 1 Axes>"
      ]
     },
     "metadata": {},
     "output_type": "display_data"
    }
   ],
   "source": [
    "A_x_list = [1,3,4,2,3,4]\n",
    "A_y_list = [2,3,4,5,1,6]\n",
    "A_x = np.array(A_x_list)\n",
    "A_y = np.array(A_y_list)\n",
    " \n",
    "B_x_list = [8,7,4,6,9,10]\n",
    "B_y_list = [3,2,1,4,1,2]\n",
    "B_x = np.array(B_x_list)\n",
    "B_y = np.array(B_y_list)\n",
    " \n",
    "finding_point = [5,4]\n",
    " \n",
    "plt.figure()\n",
    "plt.scatter(A_x,A_y)\n",
    "plt.scatter(B_x,B_y)\n",
    "plt.scatter(finding_point[0],finding_point[1], marker='*')\n",
    " \n",
    "plt.show()"
   ]
  },
  {
   "cell_type": "code",
   "execution_count": 59,
   "metadata": {},
   "outputs": [],
   "source": [
    "def min_val(L,c):\n",
    "    temp = L.copy()\n",
    "    temp.sort()\n",
    "    item = temp[c-1]\n",
    "    return L.index(item),item"
   ]
  },
  {
   "cell_type": "code",
   "execution_count": 60,
   "metadata": {},
   "outputs": [],
   "source": [
    "def AorB(k,x,y):\n",
    "    numA = 0\n",
    "    numB = 0\n",
    "    A_xy = []\n",
    "    B_xy = []\n",
    "    \n",
    "    for i in range(len(A_x_list)):\n",
    "        A_xy.append([A_x_list[i],A_y_list[i]])\n",
    "    for i in range(len(B_x_list)):\n",
    "        B_xy.append([B_x_list[i],B_y_list[i]])\n",
    " \n",
    "    A_distance = []\n",
    "    B_distance = []\n",
    "    \n",
    "    for each in A_xy:\n",
    "        dis = ((each[0] - x)**2 + (each[1] - y)**2)**(1/2)\n",
    "        A_distance.append(dis)\n",
    "        \n",
    "    for each in B_xy:\n",
    "        dis = ((each[0] - x)**2 + (each[1] - y)**2)**(1/2)\n",
    "        B_distance.append(dis)\n",
    "    A_result = []\n",
    "    B_result = []\n",
    "    \n",
    "    A_min_count = 1\n",
    "    B_min_count = 1\n",
    "    \n",
    "    # numA, numB // A 그룹의 개수, B 그룹의 개수 // k는 2 이므로 2개 이상 분류 완료 시 KNN 완료 \n",
    "    \n",
    "    while(numA + numB < k):\n",
    "        min_A = 99999\n",
    "        min_B = 99999\n",
    "\n",
    "        _, min_A = min_val(A_distance,A_min_count)\n",
    "        _, min_B = min_val(B_distance,B_min_count)\n",
    " \n",
    "        if min_A < min_B:\n",
    "            numA += 1\n",
    "            A_min_count += 1\n",
    "            #  분류한 distance값에 대한 Index를 result에 추가 \n",
    "            # 이 거리값을 가지고 있는 원래의 좌표 값을 x, y에 추가 \n",
    "            A_result.append(A_xy[A_distance.index(min_A)])\n",
    "            # min_A의 Distance에 대한 알고리즘이 끝났으므로 -1로 설정.\n",
    "            #설정 하지 않을 시 다른 좌표와 거리가 같을 때 문제가 생길 수도 있음\n",
    "            A_distance[A_distance.index(min_A)] = -1\n",
    "         \n",
    "        elif min_A > min_B:\n",
    "            numB += 1\n",
    "            B_min_count += 1\n",
    "            # 이 거리값을 가지고 있는 원래의 좌표 값을 x, y에 추가 \n",
    "            B_result.append(B_xy[B_distance.index(min_B)])\n",
    "            B_distance[B_distance.index(min_B)] = -1\n",
    "   \n",
    "        elif min_A == min_B:\n",
    "            numA += 1\n",
    "            numB += 1\n",
    "            A_min_count += 1\n",
    "            B_min_count += 1\n",
    "            A_result.append(A_xy[A_distance.index(min_A)])\n",
    "            A_distance[A_distance.index(min_A)] = -1\n",
    "            B_result.append(B_xy[B_distance.index(min_B)])\n",
    "            B_distance[B_distance.index(min_B)] = -1\n",
    "            \n",
    "    if numA > numB:\n",
    "        print(\"결과는 A 그룹입니다.\")\n",
    "    elif numA < numB:\n",
    "        print(\"결과는 B 그룹입니다.\")\n",
    "    elif numA == numB:\n",
    "        print(\"잘 모르겠습니다.\")\n",
    "    print(\"A 점은 \",A_result,\"\\nB 점은 \",B_result,\"\\n \")"
   ]
  },
  {
   "cell_type": "code",
   "execution_count": 61,
   "metadata": {},
   "outputs": [
    {
     "name": "stdout",
     "output_type": "stream",
     "text": [
      "K = 4 , \n",
      "결과는 A 그룹입니다.\n",
      "A 점은  [[4, 4], [3, 3], [4, 6]] \n",
      "B 점은  [[6, 4]] \n",
      " \n"
     ]
    }
   ],
   "source": [
    "k = 4\n",
    "print(\"K = 4 , \")\n",
    "AorB(k,finding_point[0],finding_point[1])"
   ]
  },
  {
   "cell_type": "code",
   "execution_count": null,
   "metadata": {},
   "outputs": [],
   "source": []
  }
 ],
 "metadata": {
  "kernelspec": {
   "display_name": "Python 3",
   "language": "python",
   "name": "python3"
  },
  "language_info": {
   "codemirror_mode": {
    "name": "ipython",
    "version": 3
   },
   "file_extension": ".py",
   "mimetype": "text/x-python",
   "name": "python",
   "nbconvert_exporter": "python",
   "pygments_lexer": "ipython3",
   "version": "3.6.5"
  }
 },
 "nbformat": 4,
 "nbformat_minor": 2
}
